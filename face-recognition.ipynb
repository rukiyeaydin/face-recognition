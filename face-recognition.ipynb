{
 "cells": [
  {
   "cell_type": "markdown",
   "id": "a6b93e9b",
   "metadata": {},
   "source": [
    "# Generating Dataset"
   ]
  },
  {
   "cell_type": "code",
   "execution_count": 1,
   "id": "84a10f28",
   "metadata": {},
   "outputs": [],
   "source": [
    "import cv2"
   ]
  },
  {
   "cell_type": "code",
   "execution_count": 2,
   "id": "97d66ef2",
   "metadata": {},
   "outputs": [
    {
     "name": "stderr",
     "output_type": "stream",
     "text": [
      "<>:9: SyntaxWarning: \"is\" with a literal. Did you mean \"==\"?\n",
      "<>:9: SyntaxWarning: \"is\" with a literal. Did you mean \"==\"?\n",
      "C:\\Users\\Lenovo\\AppData\\Local\\Temp\\ipykernel_22400\\3467911827.py:9: SyntaxWarning: \"is\" with a literal. Did you mean \"==\"?\n",
      "  if faces is ():\n"
     ]
    }
   ],
   "source": [
    "def generate_dataset():\n",
    "    face_classifier = cv2.CascadeClassifier(\"haarcascade_frontalface_default.xml\")\n",
    "    def face_cropped(img):\n",
    "        gray = cv2.cvtColor(img, cv2.COLOR_BGR2GRAY)\n",
    "        faces = face_classifier.detectMultiScale(gray, 1.3, 5)\n",
    "        # scalling factor = 1.3\n",
    "        # minimum neighbor = 5\n",
    "        \n",
    "        if faces is ():\n",
    "            return None\n",
    "        for(x,y,w,h) in faces:\n",
    "            cropped_face = img[y:y+h,x:x+w]\n",
    "        return cropped_face \n",
    "    \n",
    "    cap = cv2.VideoCapture(0)\n",
    "    # 0 meansim gonna use laptop camera\n",
    "    id = 2\n",
    "    # id = 1 means the first person\n",
    "    img_id = 0\n",
    "    \n",
    "    while True:\n",
    "        ret, frame = cap.read()\n",
    "        if face_cropped(frame) is not None:\n",
    "            img_id += 1\n",
    "            face = cv2.resize(face_cropped(frame), (200,200))\n",
    "            face = cv2.cvtColor(face, cv2.COLOR_BGR2GRAY)\n",
    "            file_name_path = \"data/user.\"+str(id)+\".\"+str(img_id)+\".jpg\"\n",
    "            cv2.imwrite(file_name_path, face)\n",
    "            cv2.putText(face,str(img_id),(50,50),cv2.FONT_HERSHEY_COMPLEX,1,(0,255,0),2)\n",
    "            \n",
    "            cv2.imshow(\"cropped face\", face)\n",
    "            if cv2.waitKey(1)==13 or int(img_id)==200:\n",
    "                break\n",
    "    cap.release() \n",
    "    cv2.destroyAllWindows()\n",
    "    print(\"Collecting ssamples is completed...\")\n",
    "    \n",
    "#generate_dataset()\n",
    "            "
   ]
  },
  {
   "cell_type": "markdown",
   "id": "d6118f8a",
   "metadata": {},
   "source": [
    "# Train the classifier"
   ]
  },
  {
   "cell_type": "code",
   "execution_count": 3,
   "id": "05b2edd8",
   "metadata": {},
   "outputs": [],
   "source": [
    "import numpy as np\n",
    "from PIL import Image\n",
    "import os"
   ]
  },
  {
   "cell_type": "code",
   "execution_count": 4,
   "id": "28874207",
   "metadata": {},
   "outputs": [],
   "source": [
    "import cv2"
   ]
  },
  {
   "cell_type": "code",
   "execution_count": 5,
   "id": "59c42f6d",
   "metadata": {},
   "outputs": [
    {
     "name": "stdout",
     "output_type": "stream",
     "text": [
      "<module 'cv2.face' (<_frozen_importlib_external.NamespaceLoader object at 0x0000020B5FFE5D90>)>\n"
     ]
    }
   ],
   "source": [
    "print(cv2.face)"
   ]
  },
  {
   "cell_type": "code",
   "execution_count": 6,
   "id": "422a36bd",
   "metadata": {},
   "outputs": [],
   "source": [
    "# def train_classifier(data_dir):\n",
    "#     path = [os.path.join(data_dir, f) for f in os.listdir(data_dir)]\n",
    "     \n",
    "#     faces = []\n",
    "#     ids = []\n",
    "     \n",
    "#     for image in path:\n",
    "#         img = Image.open(image).convert('L')\n",
    "#         imageNp = np.array(img, 'uint8')\n",
    "#         id = int(os.path.split(image)[1].split(\".\")[1])\n",
    "         \n",
    "#         faces.append(imageNp)\n",
    "#         ids.append(id)\n",
    "         \n",
    "#     ids = np.array(ids)\n",
    "     \n",
    "#     # Train and save classifier\n",
    "#     clf = cv2.face.LBPHFaceRecognizer_create()\n",
    "#     clf.train(faces,ids)\n",
    "#     clf.write(\"classifier.xml\")\n",
    "# train_classifier(\"data\")"
   ]
  },
  {
   "cell_type": "markdown",
   "id": "40efeef6",
   "metadata": {},
   "source": [
    "# Detect the face and tell the name if it is already stored in our dataset"
   ]
  },
  {
   "cell_type": "code",
   "execution_count": 12,
   "id": "e4c05ce0",
   "metadata": {},
   "outputs": [
    {
     "ename": "KeyboardInterrupt",
     "evalue": "",
     "output_type": "error",
     "traceback": [
      "\u001b[1;31m---------------------------------------------------------------------------\u001b[0m",
      "\u001b[1;31mKeyboardInterrupt\u001b[0m                         Traceback (most recent call last)",
      "Cell \u001b[1;32mIn[12], line 41\u001b[0m\n\u001b[0;32m     39\u001b[0m \u001b[38;5;28;01mwhile\u001b[39;00m \u001b[38;5;28;01mTrue\u001b[39;00m:\n\u001b[0;32m     40\u001b[0m     ret, img \u001b[38;5;241m=\u001b[39m video_capture\u001b[38;5;241m.\u001b[39mread()\n\u001b[1;32m---> 41\u001b[0m     img \u001b[38;5;241m=\u001b[39m recognize(img, clf, faceCascade)\n\u001b[0;32m     43\u001b[0m     \u001b[38;5;66;03m# Görüntüyü pencerede göster\u001b[39;00m\n\u001b[0;32m     44\u001b[0m     cv2\u001b[38;5;241m.\u001b[39mimshow(\u001b[38;5;124m\"\u001b[39m\u001b[38;5;124mface Detection\u001b[39m\u001b[38;5;124m\"\u001b[39m, img)\n",
      "Cell \u001b[1;32mIn[12], line 27\u001b[0m, in \u001b[0;36mrecognize\u001b[1;34m(img, clf, faceCascade)\u001b[0m\n\u001b[0;32m     26\u001b[0m \u001b[38;5;28;01mdef\u001b[39;00m \u001b[38;5;21mrecognize\u001b[39m(img, clf, faceCascade):\n\u001b[1;32m---> 27\u001b[0m     coords \u001b[38;5;241m=\u001b[39m draw_boundary(img, faceCascade, \u001b[38;5;241m1.1\u001b[39m, \u001b[38;5;241m10\u001b[39m, (\u001b[38;5;241m255\u001b[39m,\u001b[38;5;241m255\u001b[39m,\u001b[38;5;241m255\u001b[39m), \u001b[38;5;124m\"\u001b[39m\u001b[38;5;124mFace\u001b[39m\u001b[38;5;124m\"\u001b[39m, clf)\n\u001b[0;32m     28\u001b[0m     \u001b[38;5;28;01mreturn\u001b[39;00m img\n",
      "Cell \u001b[1;32mIn[12], line 5\u001b[0m, in \u001b[0;36mdraw_boundary\u001b[1;34m(img, classifier, scaleFactor, minNeighbors, color, text, clf)\u001b[0m\n\u001b[0;32m      3\u001b[0m \u001b[38;5;28;01mdef\u001b[39;00m \u001b[38;5;21mdraw_boundary\u001b[39m(img, classifier, scaleFactor, minNeighbors, color, text, clf):\n\u001b[0;32m      4\u001b[0m     gray_img \u001b[38;5;241m=\u001b[39m cv2\u001b[38;5;241m.\u001b[39mcvtColor(img, cv2\u001b[38;5;241m.\u001b[39mCOLOR_BGR2GRAY)\n\u001b[1;32m----> 5\u001b[0m     features \u001b[38;5;241m=\u001b[39m classifier\u001b[38;5;241m.\u001b[39mdetectMultiScale(gray_img, scaleFactor, minNeighbors)\n\u001b[0;32m      7\u001b[0m     coords \u001b[38;5;241m=\u001b[39m []\n\u001b[0;32m      9\u001b[0m     \u001b[38;5;28;01mfor\u001b[39;00m (x,y,w,h) \u001b[38;5;129;01min\u001b[39;00m features:\n",
      "\u001b[1;31mKeyboardInterrupt\u001b[0m: "
     ]
    }
   ],
   "source": [
    " def draw_boundary(img, classifier, scaleFactor, minNeighbors, color, text, clf):\n",
    "    gray_img = cv2.cvtColor(img, cv2.COLOR_BGR2GRAY)\n",
    "    features = classifier.detectMultiScale(gray_img, scaleFactor, minNeighbors)\n",
    "    \n",
    "    coords = []\n",
    "     \n",
    "    for (x,y,w,h) in features:\n",
    "        cv2.rectangle(img, (x,y), (x+w,y+h), color, 2 )\n",
    "         \n",
    "        id, pred = clf.predict(gray_img[y:y+h,x:x+w])\n",
    "        confidence = int(100*(1-pred/300))\n",
    "         \n",
    "        if confidence>77:\n",
    "            if id==1:\n",
    "                cv2.putText(img, \"Nazli\", (x,y-5), cv2.FONT_HERSHEY_SIMPLEX, 0.8, color, 1, cv2.LINE_AA)\n",
    "            if id==2:\n",
    "                cv2.putText(img, \"Mirac\", (x,y-5), cv2.FONT_HERSHEY_SIMPLEX, 0.8, color, 1, cv2.LINE_AA)\n",
    "        else:\n",
    "            cv2.putText(img, \"UNKNOWN\", (x,y-5), cv2.FONT_HERSHEY_SIMPLEX, 0.8, (0,0,255), 1, cv2.LINE_AA)\n",
    "        \n",
    "        coords=[x,y,w,h]\n",
    "    return coords\n",
    "\n",
    "def recognize(img,clf,faceCascade):\n",
    "    coords = draw_boundary(img,faceCascade,1.1,10,(255,255,255),\"Face\",clf)\n",
    "    return img\n",
    "\n",
    "faceCascade = cv2.CascadeClassifier(\"haarcascade_frontalface_default.xml\")\n",
    "clf = cv2.face.LBPHFaceRecognizer_create()\n",
    "clf.read(\"classifier.xml\") \n",
    "\n",
    "video_capture = cv2.VideoCapture(0)\n",
    "\n",
    "while True:\n",
    "    ret, img = video_capture.read()\n",
    "    img=recognize(img,clf,faceCascade)\n",
    "    cv2.imshow(\"face Detection\", img)\n",
    "     \n",
    "    if cv2.waitKey(1)==13:\n",
    "        break\n",
    "video_capture.release()\n",
    "cv2.destroyAllWindows()"
   ]
  },
  {
   "cell_type": "code",
   "execution_count": 13,
   "id": "56ad5e62",
   "metadata": {},
   "outputs": [],
   "source": [
    "video_capture.release()\n",
    "cv2.destroyAllWindows()"
   ]
  },
  {
   "cell_type": "code",
   "execution_count": null,
   "id": "aeaee60f",
   "metadata": {},
   "outputs": [],
   "source": []
  }
 ],
 "metadata": {
  "kernelspec": {
   "display_name": "Python 3 (ipykernel)",
   "language": "python",
   "name": "python3"
  },
  "language_info": {
   "codemirror_mode": {
    "name": "ipython",
    "version": 3
   },
   "file_extension": ".py",
   "mimetype": "text/x-python",
   "name": "python",
   "nbconvert_exporter": "python",
   "pygments_lexer": "ipython3",
   "version": "3.11.5"
  }
 },
 "nbformat": 4,
 "nbformat_minor": 5
}
